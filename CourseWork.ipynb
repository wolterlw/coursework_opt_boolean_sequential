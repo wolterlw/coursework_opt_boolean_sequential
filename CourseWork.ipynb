{
 "cells": [
  {
   "cell_type": "code",
   "execution_count": 40,
   "metadata": {
    "collapsed": true
   },
   "outputs": [],
   "source": [
    "import numpy as np\n",
    "import pandas as pd\n",
    "from functools import reduce\n",
    "from copy import deepcopy\n",
    "import qgrid"
   ]
  },
  {
   "cell_type": "code",
   "execution_count": 2,
   "metadata": {
    "collapsed": true
   },
   "outputs": [],
   "source": [
    "def skip_i(x,i):\n",
    "    if len(x.shape)>1:\n",
    "        return np.concatenate([x[:,:i],x[:,i+1:]],axis=1)\n",
    "    if len(x.shape) == 1:\n",
    "        return np.concatenate([x[:i],x[i+1:]],axis=0)\n",
    "    else:\n",
    "        raise NameError('Invalid input dimetion')\n",
    "        \n",
    "def rec_brute(f,rranges,pos_var=0,params=[],min_val=100,par_cache=[]):\n",
    "    if pos_var == len(rranges) - 1:\n",
    "        for i in rranges[pos_var]:\n",
    "            params.append(i)\n",
    "            val = f(params)\n",
    "            if min_val > val:\n",
    "                min_val = deepcopy(val)\n",
    "                par_cache = deepcopy(params)\n",
    "            params.pop()\n",
    "        return min_val,par_cache\n",
    "    else:\n",
    "        for i in rranges[pos_var]:\n",
    "            params.append(i)\n",
    "            min_val,par_cache = rec_brute(f,rranges,pos_var+1,params,min_val,par_cache)\n",
    "            params.pop()\n",
    "    return min_val,par_cache"
   ]
  },
  {
   "cell_type": "code",
   "execution_count": 4,
   "metadata": {},
   "outputs": [
    {
     "data": {
      "text/html": [
       "<div>\n",
       "<style>\n",
       "    .dataframe thead tr:only-child th {\n",
       "        text-align: right;\n",
       "    }\n",
       "\n",
       "    .dataframe thead th {\n",
       "        text-align: left;\n",
       "    }\n",
       "\n",
       "    .dataframe tbody tr th {\n",
       "        vertical-align: top;\n",
       "    }\n",
       "</style>\n",
       "<table border=\"1\" class=\"dataframe\">\n",
       "  <thead>\n",
       "    <tr style=\"text-align: right;\">\n",
       "      <th></th>\n",
       "      <th>week_1</th>\n",
       "      <th>week_2</th>\n",
       "      <th>week_3</th>\n",
       "      <th>early_start</th>\n",
       "      <th>late_start</th>\n",
       "    </tr>\n",
       "  </thead>\n",
       "  <tbody>\n",
       "    <tr>\n",
       "      <th>0</th>\n",
       "      <td>4</td>\n",
       "      <td>6</td>\n",
       "      <td>3</td>\n",
       "      <td>1</td>\n",
       "      <td>4</td>\n",
       "    </tr>\n",
       "    <tr>\n",
       "      <th>1</th>\n",
       "      <td>5</td>\n",
       "      <td>2</td>\n",
       "      <td>5</td>\n",
       "      <td>1</td>\n",
       "      <td>3</td>\n",
       "    </tr>\n",
       "    <tr>\n",
       "      <th>2</th>\n",
       "      <td>7</td>\n",
       "      <td>1</td>\n",
       "      <td>1</td>\n",
       "      <td>2</td>\n",
       "      <td>5</td>\n",
       "    </tr>\n",
       "    <tr>\n",
       "      <th>3</th>\n",
       "      <td>1</td>\n",
       "      <td>3</td>\n",
       "      <td>6</td>\n",
       "      <td>2</td>\n",
       "      <td>6</td>\n",
       "    </tr>\n",
       "    <tr>\n",
       "      <th>4</th>\n",
       "      <td>5</td>\n",
       "      <td>3</td>\n",
       "      <td>4</td>\n",
       "      <td>3</td>\n",
       "      <td>5</td>\n",
       "    </tr>\n",
       "  </tbody>\n",
       "</table>\n",
       "</div>"
      ],
      "text/plain": [
       "   week_1  week_2  week_3  early_start  late_start\n",
       "0       4       6       3            1           4\n",
       "1       5       2       5            1           3\n",
       "2       7       1       1            2           5\n",
       "3       1       3       6            2           6\n",
       "4       5       3       4            3           5"
      ]
     },
     "execution_count": 4,
     "metadata": {},
     "output_type": "execute_result"
    }
   ],
   "source": [
    "costs = pd.DataFrame({\n",
    "    'week_1': [4,5,7,1,5],\n",
    "    'week_2': [6,2,1,3,3],\n",
    "    'week_3': [3,5,1,6,4]\n",
    "})\n",
    "constrains = pd.DataFrame({\n",
    "    'early_start': [1,1,2,2,3],\n",
    "    'late_start': [4,3,5,6,5]\n",
    "})\n",
    "pd.concat([costs,constrains],axis=1)"
   ]
  },
  {
   "cell_type": "code",
   "execution_count": 4,
   "metadata": {
    "collapsed": true
   },
   "outputs": [],
   "source": [
    "n_w_repair = costs.shape[1]\n",
    "num_weeks = 8\n",
    "num_mechs = 5\n",
    "X = np.zeros((num_mechs,num_weeks),dtype='uint8')\n",
    "Xvar = np.zeros((num_mechs,num_weeks,2),dtype='uint8') # all X variants which we will use for filtering\n",
    "Xvar[:,:,1] = 1"
   ]
  },
  {
   "cell_type": "code",
   "execution_count": 5,
   "metadata": {
    "collapsed": true
   },
   "outputs": [],
   "source": [
    "A = np.arange(1,X.shape[1]+1)"
   ]
  },
  {
   "cell_type": "code",
   "execution_count": 6,
   "metadata": {
    "collapsed": true
   },
   "outputs": [],
   "source": [
    "def Ax(Xvar,i,j,mode=np.max):\n",
    "    return A[:j].dot(mode(Xvar[i,:j],axis=1))+A[j+1:].dot(mode(Xvar[i,j+1:],axis=1))\n",
    "def Cx(Xvar,i,j,mode=np.max):\n",
    "    return mode(Xvar[i,:j],axis=1).sum() + mode(Xvar[i,j+1:],axis=1).sum()"
   ]
  },
  {
   "cell_type": "code",
   "execution_count": 7,
   "metadata": {
    "collapsed": true
   },
   "outputs": [],
   "source": [
    "def check_W1(Xvar,i,j):\n",
    "    b1 = A[j]*Xvar[i,j] > constrains['late_start'][i] - Ax(Xvar,i,j,np.min)\n",
    "    b2 = A[j]*Xvar[i,j] < constrains['early_start'][i] - 1 - Ax(Xvar,i,j,np.max)\n",
    "    b3 = Xvar[i,j] > 1 - Cx(Xvar,i,j,np.min)\n",
    "    b4 = Xvar[i,j] < 1 - Cx(Xvar,i,j,np.max)\n",
    "    return np.r_[[b1,b2,b3,b4]].any(axis=0) # if true by one axis - filter this value"
   ]
  },
  {
   "cell_type": "code",
   "execution_count": 8,
   "metadata": {
    "collapsed": true
   },
   "outputs": [],
   "source": [
    "def filter_W1(Xvar):\n",
    "    Xv = Xvar.copy()\n",
    "    filtered = False\n",
    "    for i in range(Xv.shape[0]):\n",
    "        for j in range(Xv.shape[1]):\n",
    "            res = check_W1(Xv,i,j)\n",
    "            if res[0]:\n",
    "                Xv[i,j] = [1,1]\n",
    "                filtered = True\n",
    "            if res[1]:\n",
    "                Xv[i,j] = [0,0]\n",
    "                filtered = True\n",
    "    if filtered:\n",
    "        return Xv\n",
    "    else:\n",
    "        None"
   ]
  },
  {
   "cell_type": "markdown",
   "metadata": {},
   "source": [
    "$g_p(x)<= g_p^*$   \n",
    "$min\\{g_p(X^p|x_j=x_{j_k})\\}>=g^*_p $ - умова відсіювання $x_{j_k}$"
   ]
  },
  {
   "cell_type": "code",
   "execution_count": 9,
   "metadata": {
    "collapsed": true
   },
   "outputs": [],
   "source": [
    "# temp\n",
    "i = 3\n",
    "j = 3"
   ]
  },
  {
   "cell_type": "code",
   "execution_count": 10,
   "metadata": {
    "collapsed": true
   },
   "outputs": [],
   "source": [
    "def W2_check_ij(i,j):\n",
    "    if Xvar[i,j].mean() == 0.5:\n",
    "        Xtmp = Xvar.min(axis=2)\n",
    "        Xtmp[i,j] = 1\n",
    "        return f_target(Xtmp) > 6\n",
    "    else:\n",
    "        return False"
   ]
  },
  {
   "cell_type": "code",
   "execution_count": 11,
   "metadata": {
    "collapsed": true
   },
   "outputs": [],
   "source": [
    "class Schedule():\n",
    "    def __init__(self,week_constraints,costs,num_weeks):\n",
    "        self.constraints =  week_constraints\n",
    "        self.costs = costs\n",
    "        self.n_weeks = num_weeks\n",
    "        self.n_mechs = costs.shape[0]\n",
    "        self.n_w_repair = costs.shape[1]\n",
    "        \n",
    "    def get_cost(self,X):\n",
    "        Xar = [X.copy()]\n",
    "        for i in range(1,self.n_w_repair):\n",
    "            Xar.append(np.pad(X,((0,0),(i,0)),'constant')[:,:-i])\n",
    "        return np.c_[\n",
    "            [ Xar[i].T.dot(self.costs['week_'+str(i+1)]) for i in range(self.n_w_repair) ]\n",
    "                ].sum(axis=0).max()\n",
    "    \n",
    "    def is_valid(self,X):\n",
    "        if X.shape != (self.n_mechs,self.n_weeks):\n",
    "            print(\"invaid shape\")\n",
    "            return False\n",
    "        if (X.sum(axis=1) != 1).any():\n",
    "            print(\"multiple start weeks per machine\")\n",
    "            return False\n",
    "        \n",
    "        mask = np.ones_like(X)\n",
    "        for c in self.constraints.iterrows():\n",
    "            mask[c[0],c[1]['early_start']-1:c[1]['late_start']-1] = 0\n",
    "        \n",
    "        if (X*mask == 0).all():\n",
    "            return True\n",
    "        else:\n",
    "            print(\"constraints not satisfied\")\n",
    "            return False\n",
    "    \n",
    "    def get_cost_w(self,w_starts):\n",
    "        return np.c_[\n",
    "                [ np.pad( c, (w_starts[i]-1,\n",
    "                              self.n_weeks-w_starts[i]+1),\n",
    "                              'constant') \n",
    "                    for i,c in enumerate(costs.values) ]\n",
    "                ].sum(axis=0).max()\n",
    "    def apply_early(self,Xvar):\n",
    "        for i in range(self.constraints['early_start'].max()):\n",
    "            Xvar[:,:,1][:,i][Xvar[:,:,1][:,i]*(i+1) < self.constraints['early_start']] = 0\n",
    "        return Xvar\n",
    "        \n",
    "    def apply_late(self,Xvar):\n",
    "        for i in range(self.constraints['late_start'].min()-1,Xvar.shape[1]):\n",
    "            Xvar[:,:,1][:,i][Xvar[:,:,1][:,i]*(i+1) > self.constraints['late_start']] = 0\n",
    "        return Xvar\n",
    "    \n",
    "    def solve_brute(self):\n",
    "        rranges = list(self.constraints.apply(lambda x: range(x.early_start,x.late_start+1,1),axis=1))\n",
    "        return rec_brute(self.get_cost_w,rranges)"
   ]
  },
  {
   "cell_type": "code",
   "execution_count": 12,
   "metadata": {
    "collapsed": true
   },
   "outputs": [],
   "source": [
    "repairs = Schedule(constrains,costs,num_weeks=8)"
   ]
  },
  {
   "cell_type": "code",
   "execution_count": 13,
   "metadata": {},
   "outputs": [
    {
     "name": "stdout",
     "output_type": "stream",
     "text": [
      "9\n"
     ]
    }
   ],
   "source": [
    "min_val,params = repairs.solve_brute()\n",
    "print(min_val)"
   ]
  },
  {
   "cell_type": "code",
   "execution_count": 14,
   "metadata": {
    "collapsed": true
   },
   "outputs": [],
   "source": [
    "def get_costs(params,costs):\n",
    "    Xt = np.zeros((5,8))\n",
    "    for c in costs.iterrows():\n",
    "        for i in range(3):\n",
    "            Xt[c[0],params[c[0]]-1+i] = c[1]['week_'+str(i+1)]\n",
    "    print(Xt)\n",
    "    print(Xt.sum(axis=0).reshape(1,-1))"
   ]
  },
  {
   "cell_type": "code",
   "execution_count": 15,
   "metadata": {},
   "outputs": [
    {
     "name": "stdout",
     "output_type": "stream",
     "text": [
      "[[ 4.  6.  3.  0.  0.  0.  0.  0.]\n",
      " [ 5.  2.  5.  0.  0.  0.  0.  0.]\n",
      " [ 0.  0.  0.  7.  1.  1.  0.  0.]\n",
      " [ 0.  0.  0.  0.  0.  1.  3.  6.]\n",
      " [ 0.  0.  0.  0.  5.  3.  4.  0.]]\n",
      "[[ 9.  8.  8.  7.  6.  5.  7.  6.]]\n"
     ]
    }
   ],
   "source": [
    "get_costs(params,costs)"
   ]
  },
  {
   "cell_type": "code",
   "execution_count": 16,
   "metadata": {
    "collapsed": true
   },
   "outputs": [],
   "source": [
    "#      _____       _    _           _         _____  _____  _____     \n",
    "#    |     | ___ | |_ | |_  ___  _| |       |   __||  _  ||   __|    \n",
    "#   | | | || -_||  _||   || . || . |       |__   ||     ||   __|    \n",
    "#  |_|_|_||___||_|  |_|_||___||___| _____ |_____||__|__||__|       \n",
    "#                                  |_____|                         "
   ]
  },
  {
   "cell_type": "code",
   "execution_count": 9,
   "metadata": {
    "collapsed": true
   },
   "outputs": [],
   "source": [
    "from ipywidgets import widgets\n",
    "from IPython.display import display"
   ]
  },
  {
   "cell_type": "code",
   "execution_count": 39,
   "metadata": {},
   "outputs": [
    {
     "data": {
      "application/vnd.jupyter.widget-view+json": {
       "model_id": "7e8c76c66ee549d48d011f3bb1fe67c4",
       "version_major": 2,
       "version_minor": 0
      },
      "text/html": [
       "<p>Failed to display Jupyter Widget of type <code>interactive</code>.</p>\n",
       "<p>\n",
       "  If you're reading this message in the Jupyter Notebook or JupyterLab Notebook, it may mean\n",
       "  that the widgets JavaScript is still loading. If this message persists, it\n",
       "  likely means that the widgets JavaScript library is either not installed or\n",
       "  not enabled. See the <a href=\"https://ipywidgets.readthedocs.io/en/stable/user_install.html\">Jupyter\n",
       "  Widgets Documentation</a> for setup instructions.\n",
       "</p>\n",
       "<p>\n",
       "  If you're reading this message in another frontend (for example, a static\n",
       "  rendering on GitHub or <a href=\"https://nbviewer.jupyter.org/\">NBViewer</a>),\n",
       "  it may mean that your frontend doesn't currently support widgets.\n",
       "</p>\n"
      ],
      "text/plain": [
       "interactive(children=(IntSlider(value=5, description='x', max=10), Output()), _dom_classes=('widget-interact',))"
      ]
     },
     "metadata": {},
     "output_type": "display_data"
    },
    {
     "data": {
      "application/vnd.jupyter.widget-view+json": {
       "model_id": "ee41d016260e47f1972e4198879e8d63",
       "version_major": 2,
       "version_minor": 0
      },
      "text/html": [
       "<p>Failed to display Jupyter Widget of type <code>interactive</code>.</p>\n",
       "<p>\n",
       "  If you're reading this message in the Jupyter Notebook or JupyterLab Notebook, it may mean\n",
       "  that the widgets JavaScript is still loading. If this message persists, it\n",
       "  likely means that the widgets JavaScript library is either not installed or\n",
       "  not enabled. See the <a href=\"https://ipywidgets.readthedocs.io/en/stable/user_install.html\">Jupyter\n",
       "  Widgets Documentation</a> for setup instructions.\n",
       "</p>\n",
       "<p>\n",
       "  If you're reading this message in another frontend (for example, a static\n",
       "  rendering on GitHub or <a href=\"https://nbviewer.jupyter.org/\">NBViewer</a>),\n",
       "  it may mean that your frontend doesn't currently support widgets.\n",
       "</p>\n"
      ],
      "text/plain": [
       "interactive(children=(IntSlider(value=8, description='x', max=20), Output()), _dom_classes=('widget-interact',))"
      ]
     },
     "metadata": {},
     "output_type": "display_data"
    },
    {
     "data": {
      "application/vnd.jupyter.widget-view+json": {
       "model_id": "ba905c3225ed4503b7e9bbe23f5afbfb",
       "version_major": 2,
       "version_minor": 0
      },
      "text/html": [
       "<p>Failed to display Jupyter Widget of type <code>Button</code>.</p>\n",
       "<p>\n",
       "  If you're reading this message in the Jupyter Notebook or JupyterLab Notebook, it may mean\n",
       "  that the widgets JavaScript is still loading. If this message persists, it\n",
       "  likely means that the widgets JavaScript library is either not installed or\n",
       "  not enabled. See the <a href=\"https://ipywidgets.readthedocs.io/en/stable/user_install.html\">Jupyter\n",
       "  Widgets Documentation</a> for setup instructions.\n",
       "</p>\n",
       "<p>\n",
       "  If you're reading this message in another frontend (for example, a static\n",
       "  rendering on GitHub or <a href=\"https://nbviewer.jupyter.org/\">NBViewer</a>),\n",
       "  it may mean that your frontend doesn't currently support widgets.\n",
       "</p>\n"
      ],
      "text/plain": [
       "Button(description='GET EM', style=ButtonStyle())"
      ]
     },
     "metadata": {},
     "output_type": "display_data"
    },
    {
     "data": {
      "application/vnd.jupyter.widget-view+json": {
       "model_id": "1d638c535e2c4a6dbcc70fe95fa2d7bf",
       "version_major": 2,
       "version_minor": 0
      },
      "text/html": [
       "<p>Failed to display Jupyter Widget of type <code>Button</code>.</p>\n",
       "<p>\n",
       "  If you're reading this message in the Jupyter Notebook or JupyterLab Notebook, it may mean\n",
       "  that the widgets JavaScript is still loading. If this message persists, it\n",
       "  likely means that the widgets JavaScript library is either not installed or\n",
       "  not enabled. See the <a href=\"https://ipywidgets.readthedocs.io/en/stable/user_install.html\">Jupyter\n",
       "  Widgets Documentation</a> for setup instructions.\n",
       "</p>\n",
       "<p>\n",
       "  If you're reading this message in another frontend (for example, a static\n",
       "  rendering on GitHub or <a href=\"https://nbviewer.jupyter.org/\">NBViewer</a>),\n",
       "  it may mean that your frontend doesn't currently support widgets.\n",
       "</p>\n"
      ],
      "text/plain": [
       "Button(description='Test Case', style=ButtonStyle())"
      ]
     },
     "metadata": {},
     "output_type": "display_data"
    },
    {
     "data": {
      "application/vnd.jupyter.widget-view+json": {
       "model_id": "20681bf618874756bc9f29b6663ebdf4",
       "version_major": 2,
       "version_minor": 0
      },
      "text/html": [
       "<p>Failed to display Jupyter Widget of type <code>QgridWidget</code>.</p>\n",
       "<p>\n",
       "  If you're reading this message in the Jupyter Notebook or JupyterLab Notebook, it may mean\n",
       "  that the widgets JavaScript is still loading. If this message persists, it\n",
       "  likely means that the widgets JavaScript library is either not installed or\n",
       "  not enabled. See the <a href=\"https://ipywidgets.readthedocs.io/en/stable/user_install.html\">Jupyter\n",
       "  Widgets Documentation</a> for setup instructions.\n",
       "</p>\n",
       "<p>\n",
       "  If you're reading this message in another frontend (for example, a static\n",
       "  rendering on GitHub or <a href=\"https://nbviewer.jupyter.org/\">NBViewer</a>),\n",
       "  it may mean that your frontend doesn't currently support widgets.\n",
       "</p>\n"
      ],
      "text/plain": [
       "QgridWidget(grid_options={'fullWidthRows': True, 'syncColumnCellResize': True, 'forceFitColumns': True, 'defaultColumnWidth': 150, 'rowHeight': 28, 'enableColumnReorder': False, 'enableTextSelectionOnCells': True, 'editable': True, 'autoEdit': False, 'explicitInitialization': True, 'maxVisibleRows': 15, 'minVisibleRows': 8}, precision=5)"
      ]
     },
     "metadata": {},
     "output_type": "display_data"
    },
    {
     "data": {
      "application/vnd.jupyter.widget-view+json": {
       "model_id": "6fd0b067fae640868d9d10251b9b20a3",
       "version_major": 2,
       "version_minor": 0
      },
      "text/html": [
       "<p>Failed to display Jupyter Widget of type <code>QgridWidget</code>.</p>\n",
       "<p>\n",
       "  If you're reading this message in the Jupyter Notebook or JupyterLab Notebook, it may mean\n",
       "  that the widgets JavaScript is still loading. If this message persists, it\n",
       "  likely means that the widgets JavaScript library is either not installed or\n",
       "  not enabled. See the <a href=\"https://ipywidgets.readthedocs.io/en/stable/user_install.html\">Jupyter\n",
       "  Widgets Documentation</a> for setup instructions.\n",
       "</p>\n",
       "<p>\n",
       "  If you're reading this message in another frontend (for example, a static\n",
       "  rendering on GitHub or <a href=\"https://nbviewer.jupyter.org/\">NBViewer</a>),\n",
       "  it may mean that your frontend doesn't currently support widgets.\n",
       "</p>\n"
      ],
      "text/plain": [
       "QgridWidget(grid_options={'fullWidthRows': True, 'syncColumnCellResize': True, 'forceFitColumns': True, 'defaultColumnWidth': 150, 'rowHeight': 28, 'enableColumnReorder': False, 'enableTextSelectionOnCells': True, 'editable': True, 'autoEdit': False, 'explicitInitialization': True, 'maxVisibleRows': 15, 'minVisibleRows': 8}, precision=5)"
      ]
     },
     "metadata": {},
     "output_type": "display_data"
    }
   ],
   "source": [
    "def number_of_machines(x):\n",
    "    global n_of_mech\n",
    "    n_of_mech = x\n",
    "def number_of_weeks(x):\n",
    "    global n_of_weeks\n",
    "    n_of_weeks = x\n",
    "def get_input_matr(b):\n",
    "    df = pd.DataFrame(\n",
    "    np.zeros((n_of_mech,n_of_weeks+2),dtype='uint8'),\n",
    "    columns=['week_'+str(i) for i in range(1,n_of_weeks+1)] + ['early_start','late_start']\n",
    "    )\n",
    "    qgrid_widget = qgrid.QgridWidget(df=df)\n",
    "    display(qgrid_widget)\n",
    "\n",
    "def get_test_input(b):\n",
    "    costs = pd.DataFrame({\n",
    "        'week_1': [4,5,7,1,5],\n",
    "        'week_2': [6,2,1,3,3],\n",
    "        'week_3': [3,5,1,6,4]\n",
    "    })\n",
    "    constrains = pd.DataFrame({\n",
    "        'early_start': [1,1,2,2,3],\n",
    "        'late_start': [4,3,5,6,5]\n",
    "    })\n",
    "    df = pd.concat([costs,constrains],axis=1)\n",
    "    qgrid_widget = qgrid.QgridWidget(df=df)\n",
    "    display(qgrid_widget)\n",
    "\n",
    "widgets.interact(number_of_machines, x=widgets.IntSlider(min=0,max=10,step=1,value=5))\n",
    "widgets.interact(number_of_weeks, x=widgets.IntSlider(min=0,max=20,step=1,value=8))\n",
    "b_matr= widgets.Button(description='GET EM')\n",
    "b_matr.on_click(get_input_matr)\n",
    "display(b_matr)\n",
    "b_test = widgets.Button(description='Test Case')\n",
    "b_test.on_click(get_test_input)\n",
    "display(b_test)"
   ]
  },
  {
   "cell_type": "code",
   "execution_count": 46,
   "metadata": {},
   "outputs": [
    {
     "ename": "TypeError",
     "evalue": "notify_change() missing 1 required positional argument: 'change'",
     "output_type": "error",
     "traceback": [
      "\u001b[0;31m---------------------------------------------------------------------------\u001b[0m",
      "\u001b[0;31mTypeError\u001b[0m                                 Traceback (most recent call last)",
      "\u001b[0;32m<ipython-input-46-b33ad0e70ab5>\u001b[0m in \u001b[0;36m<module>\u001b[0;34m()\u001b[0m\n\u001b[0;32m----> 1\u001b[0;31m \u001b[0mqgrid_widget\u001b[0m\u001b[0;34m.\u001b[0m\u001b[0mnotify_change\u001b[0m\u001b[0;34m(\u001b[0m\u001b[0;34m)\u001b[0m\u001b[0;34m\u001b[0m\u001b[0m\n\u001b[0m",
      "\u001b[0;31mTypeError\u001b[0m: notify_change() missing 1 required positional argument: 'change'"
     ]
    }
   ],
   "source": [
    "qgrid_widget."
   ]
  },
  {
   "cell_type": "code",
   "execution_count": null,
   "metadata": {
    "collapsed": true
   },
   "outputs": [],
   "source": []
  }
 ],
 "metadata": {
  "kernelspec": {
   "display_name": "Python 3",
   "language": "python",
   "name": "python3"
  },
  "language_info": {
   "codemirror_mode": {
    "name": "ipython",
    "version": 3
   },
   "file_extension": ".py",
   "mimetype": "text/x-python",
   "name": "python",
   "nbconvert_exporter": "python",
   "pygments_lexer": "ipython3",
   "version": "3.6.1"
  }
 },
 "nbformat": 4,
 "nbformat_minor": 2
}
