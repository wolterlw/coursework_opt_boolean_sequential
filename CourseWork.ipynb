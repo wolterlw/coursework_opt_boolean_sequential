{
 "cells": [
  {
   "cell_type": "code",
   "execution_count": 1,
   "metadata": {
    "collapsed": true
   },
   "outputs": [],
   "source": [
    "import numpy as np\n",
    "import pandas as pd\n",
    "from functools import reduce"
   ]
  },
  {
   "cell_type": "code",
   "execution_count": 2,
   "metadata": {
    "collapsed": true
   },
   "outputs": [],
   "source": [
    "def get_matr(R):\n",
    "    \n",
    "    \"\"\"helper function for the target function\"\"\"\n",
    "    return np.c_[\n",
    "        R,\n",
    "        np.pad(R[:-1],(1,0),mode='constant'),\n",
    "        np.pad(R[:-2],(2,0),mode='constant')\n",
    "    ].T"
   ]
  },
  {
   "cell_type": "code",
   "execution_count": 3,
   "metadata": {
    "collapsed": true
   },
   "outputs": [],
   "source": [
    "costs = pd.DataFrame({\n",
    "    'week_1': [4,5,7,1,5],\n",
    "    'week_2': [6,2,1,3,3],\n",
    "    'week_3': [3,5,1,6,4]\n",
    "})\n",
    "constrains = pd.DataFrame({\n",
    "    'early_start': [1,1,2,2,3],\n",
    "    'late_start': [4,3,5,6,5]\n",
    "})"
   ]
  },
  {
   "cell_type": "code",
   "execution_count": 4,
   "metadata": {
    "collapsed": true
   },
   "outputs": [],
   "source": [
    "f_target = lambda X: np.c_[[np.dot(costs.loc[i],get_matr(X[i])) for i in range(num_mechs)]].sum(axis=0).max()"
   ]
  },
  {
   "cell_type": "code",
   "execution_count": 5,
   "metadata": {
    "collapsed": true
   },
   "outputs": [],
   "source": [
    "num_weeks = 8\n",
    "num_mechs = 5\n",
    "X = np.zeros((num_mechs,num_weeks),dtype='uint8')\n",
    "\n",
    "Xvar = np.zeros((num_mechs,num_weeks,2),dtype='uint8') # all X variants which we will use for filtering\n",
    "Xvar[:,:,1] = 1"
   ]
  },
  {
   "cell_type": "code",
   "execution_count": 6,
   "metadata": {
    "collapsed": true
   },
   "outputs": [],
   "source": [
    "A = np.arange(1,X.shape[1]+1)"
   ]
  },
  {
   "cell_type": "code",
   "execution_count": 7,
   "metadata": {},
   "outputs": [
    {
     "data": {
      "text/html": [
       "<div>\n",
       "<style>\n",
       "    .dataframe thead tr:only-child th {\n",
       "        text-align: right;\n",
       "    }\n",
       "\n",
       "    .dataframe thead th {\n",
       "        text-align: left;\n",
       "    }\n",
       "\n",
       "    .dataframe tbody tr th {\n",
       "        vertical-align: top;\n",
       "    }\n",
       "</style>\n",
       "<table border=\"1\" class=\"dataframe\">\n",
       "  <thead>\n",
       "    <tr style=\"text-align: right;\">\n",
       "      <th></th>\n",
       "      <th>week_1</th>\n",
       "      <th>week_2</th>\n",
       "      <th>week_3</th>\n",
       "      <th>early_start</th>\n",
       "      <th>late_start</th>\n",
       "    </tr>\n",
       "  </thead>\n",
       "  <tbody>\n",
       "    <tr>\n",
       "      <th>0</th>\n",
       "      <td>4</td>\n",
       "      <td>6</td>\n",
       "      <td>3</td>\n",
       "      <td>1</td>\n",
       "      <td>4</td>\n",
       "    </tr>\n",
       "    <tr>\n",
       "      <th>1</th>\n",
       "      <td>5</td>\n",
       "      <td>2</td>\n",
       "      <td>5</td>\n",
       "      <td>1</td>\n",
       "      <td>3</td>\n",
       "    </tr>\n",
       "    <tr>\n",
       "      <th>2</th>\n",
       "      <td>7</td>\n",
       "      <td>1</td>\n",
       "      <td>1</td>\n",
       "      <td>2</td>\n",
       "      <td>5</td>\n",
       "    </tr>\n",
       "    <tr>\n",
       "      <th>3</th>\n",
       "      <td>1</td>\n",
       "      <td>3</td>\n",
       "      <td>6</td>\n",
       "      <td>2</td>\n",
       "      <td>6</td>\n",
       "    </tr>\n",
       "    <tr>\n",
       "      <th>4</th>\n",
       "      <td>5</td>\n",
       "      <td>3</td>\n",
       "      <td>4</td>\n",
       "      <td>3</td>\n",
       "      <td>5</td>\n",
       "    </tr>\n",
       "  </tbody>\n",
       "</table>\n",
       "</div>"
      ],
      "text/plain": [
       "   week_1  week_2  week_3  early_start  late_start\n",
       "0       4       6       3            1           4\n",
       "1       5       2       5            1           3\n",
       "2       7       1       1            2           5\n",
       "3       1       3       6            2           6\n",
       "4       5       3       4            3           5"
      ]
     },
     "execution_count": 7,
     "metadata": {},
     "output_type": "execute_result"
    }
   ],
   "source": [
    "pd.concat([costs,constrains],axis=1)"
   ]
  },
  {
   "cell_type": "code",
   "execution_count": 8,
   "metadata": {
    "collapsed": true
   },
   "outputs": [],
   "source": [
    "def check_constraints(X):\n",
    "    \"\"\"helper function to check if X fits the constraints\"\"\"\n",
    "    \n",
    "    week_nums = X.dot(np.arange(1,X.shape[1]+1)) #calculates a row of actual start week numbers\n",
    "    bool_check = (X.sum(axis=1) == 1).all()\n",
    "    early_check = (week_nums >= constrains['early_start']).all()\n",
    "    late_check = (week_nums <= constrains['late_start']).all()\n",
    "    if not bool_check:\n",
    "        print('not exactly one week start in a row')\n",
    "    else: \n",
    "        if not early_check:\n",
    "            print('early bounds unmatched')\n",
    "        else: \n",
    "            if not late_check:\n",
    "                print('late bounds unmatched')\n",
    "            else:\n",
    "                print('all good')"
   ]
  },
  {
   "cell_type": "code",
   "execution_count": 9,
   "metadata": {},
   "outputs": [
    {
     "name": "stdout",
     "output_type": "stream",
     "text": [
      "not exactly one week start in a row\n"
     ]
    }
   ],
   "source": [
    "check_constraints(X)"
   ]
  },
  {
   "cell_type": "code",
   "execution_count": 10,
   "metadata": {},
   "outputs": [
    {
     "data": {
      "text/plain": [
       "0"
      ]
     },
     "execution_count": 10,
     "metadata": {},
     "output_type": "execute_result"
    }
   ],
   "source": [
    "f_target(X)"
   ]
  },
  {
   "cell_type": "markdown",
   "metadata": {
    "collapsed": true
   },
   "source": [
    "first we shall core the procedure that will perform $W_1$ filtering by constraints"
   ]
  },
  {
   "cell_type": "code",
   "execution_count": 11,
   "metadata": {
    "collapsed": true
   },
   "outputs": [],
   "source": [
    "i = 0 #rows\n",
    "j = 0 #columns"
   ]
  },
  {
   "cell_type": "code",
   "execution_count": 12,
   "metadata": {
    "collapsed": true
   },
   "outputs": [],
   "source": [
    "def Ax(Xvar,i,j,mode=np.max):\n",
    "    return A[:j].dot(mode(Xvar[i,:j],axis=1))+A[j+1:].dot(mode(Xvar[i,j+1:],axis=1))\n",
    "def Cx(Xvar,i,j,mode=np.max):\n",
    "    return mode(Xvar[i,:j],axis=1).sum() + mode(Xvar[i,j+1:],axis=1).sum()"
   ]
  },
  {
   "cell_type": "code",
   "execution_count": 13,
   "metadata": {
    "collapsed": true
   },
   "outputs": [],
   "source": [
    "b1 = A[j]*Xvar[i,j] > constrains['late_start'][i] - Ax(Xvar,i,j,np.min)\n",
    "\n",
    "b2 = A[j]*Xvar[i,j] < constrains['early_start'][i] - Ax(Xvar,i,j,np.max)\n",
    "\n",
    "b3 = Xvar[i,j] > 1 - Cx(Xvar,i,j,np.min)\n",
    "\n",
    "b4 = Xvar[i,j] < 1 - Cx(Xvar,i,j,np.max)"
   ]
  },
  {
   "cell_type": "code",
   "execution_count": 14,
   "metadata": {},
   "outputs": [
    {
     "data": {
      "text/plain": [
       "array([False, False], dtype=bool)"
      ]
     },
     "execution_count": 14,
     "metadata": {},
     "output_type": "execute_result"
    }
   ],
   "source": [
    "np.r_[[b1,b2,b3,b4]].any(axis=0)"
   ]
  },
  {
   "cell_type": "code",
   "execution_count": 15,
   "metadata": {
    "collapsed": true
   },
   "outputs": [],
   "source": [
    "def check_W1(Xvar,i,j):\n",
    "    b1 = A[j]*Xvar[i,j] > constrains['late_start'][i] - Ax(Xvar,i,j,np.min)\n",
    "    b2 = A[j]*Xvar[i,j] < constrains['early_start'][i] - Ax(Xvar,i,j,np.max)\n",
    "    b3 = Xvar[i,j] > 1 - Cx(Xvar,i,j,np.min)\n",
    "    b4 = Xvar[i,j] < 1 - Cx(Xvar,i,j,np.max)\n",
    "    return np.r_[[b1,b2,b3,b4]].any(axis=0) # if true by one axis - filter this value"
   ]
  },
  {
   "cell_type": "code",
   "execution_count": 16,
   "metadata": {},
   "outputs": [
    {
     "data": {
      "text/plain": [
       "array([False,  True], dtype=bool)"
      ]
     },
     "execution_count": 16,
     "metadata": {},
     "output_type": "execute_result"
    }
   ],
   "source": [
    "check_W1(Xvar,0,4)"
   ]
  },
  {
   "cell_type": "code",
   "execution_count": 17,
   "metadata": {
    "collapsed": true
   },
   "outputs": [],
   "source": [
    "def filter_W1(Xvar):\n",
    "    for i in range(Xvar.shape[0]):\n",
    "        for j in range(Xvar.shape[1]):\n",
    "            res = check_W1(Xvar,i,j)\n",
    "            if res.any():\n",
    "                print(i,j)"
   ]
  },
  {
   "cell_type": "code",
   "execution_count": 18,
   "metadata": {},
   "outputs": [
    {
     "name": "stdout",
     "output_type": "stream",
     "text": [
      "0 4\n",
      "0 5\n",
      "0 6\n",
      "0 7\n",
      "1 3\n",
      "1 4\n",
      "1 5\n",
      "1 6\n",
      "1 7\n",
      "2 5\n",
      "2 6\n",
      "2 7\n",
      "3 6\n",
      "3 7\n",
      "4 5\n",
      "4 6\n",
      "4 7\n"
     ]
    }
   ],
   "source": [
    "filter_W1(Xvar)"
   ]
  },
  {
   "cell_type": "code",
   "execution_count": null,
   "metadata": {
    "collapsed": true
   },
   "outputs": [],
   "source": []
  }
 ],
 "metadata": {
  "kernelspec": {
   "display_name": "Python 3",
   "language": "python",
   "name": "python3"
  },
  "language_info": {
   "codemirror_mode": {
    "name": "ipython",
    "version": 3
   },
   "file_extension": ".py",
   "mimetype": "text/x-python",
   "name": "python",
   "nbconvert_exporter": "python",
   "pygments_lexer": "ipython3",
   "version": "3.6.1"
  }
 },
 "nbformat": 4,
 "nbformat_minor": 2
}
